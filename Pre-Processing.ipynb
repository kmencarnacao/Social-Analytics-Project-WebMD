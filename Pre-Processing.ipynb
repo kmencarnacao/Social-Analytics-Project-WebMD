{
 "cells": [
  {
   "cell_type": "code",
   "execution_count": 1,
   "metadata": {},
   "outputs": [],
   "source": [
    "import pandas as pd\n",
    "import networkx as nx\n",
    "from matplotlib import pyplot as plt\n",
    "import re\n",
    "import Levenshtein\n",
    "from collections import Counter\n",
    "import string\n",
    "import nltk\n",
    "from nltk.corpus import stopwords"
   ]
  },
  {
   "cell_type": "code",
   "execution_count": null,
   "metadata": {},
   "outputs": [],
   "source": [
    "webmd = pd.read_csv('webmd.csv')\n",
    "stopwords = set(stopwords.words('english'))\n",
    "\n",
    "#preprocessing, lowercase set, removing stopwords from reviews, setting all values to strings other than ratings\n",
    "for colName in ['Drug','Condition','Reviews','Sides','Sex']:\n",
    "    webmd[colName] = webmd[colName].str.lower()\n",
    "    if colName == 'Reviews':\n",
    "        webmd[colName]=webmd[colName].apply(lambda x: ' '.join([word for word in x.split() if word not in (stopwords)]))\n",
    "\n",
    "#remove stopwords from all reviews\n",
    "#for review in webmd.Reviews\n",
    "#merge duplicate drugs with same Ids but different string names, some duplicate row issues under different name\n",
    "for drugId in set(webmd['DrugId'].tolist()):\n",
    "    drugs = set(webmd[webmd['DrugId']==drugId]['Drug'].tolist())\n",
    "    if len(drugs)>1:#more than one drug under same id\n",
    "        merge = min(drugs, key=len)\n",
    "        webmd.loc[webmd['DrugId']==drugId, 'Drug'] = merge\n",
    "\n",
    "webmd = webmd.drop_duplicates()\n",
    "webmd.Reviews = webmd.Reviews.fillna('')"
   ]
  },
  {
   "cell_type": "code",
   "execution_count": null,
   "metadata": {},
   "outputs": [],
   "source": [
    "webmd.to_csv('webmd.csv')"
   ]
  }
 ],
 "metadata": {
  "kernelspec": {
   "display_name": "Python 3",
   "language": "python",
   "name": "python3"
  },
  "language_info": {
   "codemirror_mode": {
    "name": "ipython",
    "version": 3
   },
   "file_extension": ".py",
   "mimetype": "text/x-python",
   "name": "python",
   "nbconvert_exporter": "python",
   "pygments_lexer": "ipython3",
   "version": "3.8.5"
  }
 },
 "nbformat": 4,
 "nbformat_minor": 4
}
